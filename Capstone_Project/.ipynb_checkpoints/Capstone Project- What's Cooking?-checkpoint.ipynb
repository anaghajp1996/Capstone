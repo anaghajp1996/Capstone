{
 "cells": [
  {
   "cell_type": "markdown",
   "metadata": {},
   "source": [
    "<h1> What's cooking?!</h1>\n"
   ]
  },
  {
   "cell_type": "markdown",
   "metadata": {},
   "source": [
    "## The problem statement-\n",
    "\n"
   ]
  },
  {
   "cell_type": "markdown",
   "metadata": {},
   "source": [
    "<p>The datasets consists of a number of recipes along with it's respective ingredients. Each recipe belongs to a particular cuisine. The goal of this project is to use the ingredients of each recipe and predict the cuisine it belongs to.\n",
    "<br>\n",
    "Sounds fun?\n",
    "<br>\n",
    "Let's get started! :D</p>"
   ]
  },
  {
   "cell_type": "markdown",
   "metadata": {},
   "source": [
    "This is a classification problem, i.e., we will be classifyng a recipe into it's cuisine, based on the ingredients involved in the recipe.\n",
    "\n",
    "A number of algorithms have been used previously to solve this problem, each having a different accuracy level. \n",
    "SVM algorithm, Artificial Neural Networks, K-Nearest Neigbours are a few algorithms that have been already used for this problem.\n",
    "We will be concentrating on Artificial Neural Networks to solve this.\n",
    "But more on that later!"
   ]
  },
  {
   "cell_type": "code",
   "execution_count": 20,
   "metadata": {
    "collapsed": true
   },
   "outputs": [],
   "source": [
    "import pandas as pd\n",
    "import matplotlib.pyplot as plt\n",
    "import numpy as  np\n",
    "import random\n",
    "import tensorflow as tf\n",
    "import keras\n",
    "from sklearn.model_selection import train_test_split\n",
    "import gc"
   ]
  },
  {
   "cell_type": "markdown",
   "metadata": {},
   "source": [
    "I got this dataset from Kaggle and found it rather interesting. It includes food :P\n",
    "\n",
    "Let's start exploring the dataset-\n",
    "We shall load it and see what is available in our dataset.\n",
    "\n"
   ]
  },
  {
   "cell_type": "markdown",
   "metadata": {},
   "source": [
    "\n",
    "# Exploring the data-"
   ]
  },
  {
   "cell_type": "code",
   "execution_count": 21,
   "metadata": {},
   "outputs": [
    {
     "data": {
      "text/html": [
       "<div>\n",
       "<style>\n",
       "    .dataframe thead tr:only-child th {\n",
       "        text-align: right;\n",
       "    }\n",
       "\n",
       "    .dataframe thead th {\n",
       "        text-align: left;\n",
       "    }\n",
       "\n",
       "    .dataframe tbody tr th {\n",
       "        vertical-align: top;\n",
       "    }\n",
       "</style>\n",
       "<table border=\"1\" class=\"dataframe\">\n",
       "  <thead>\n",
       "    <tr style=\"text-align: right;\">\n",
       "      <th></th>\n",
       "      <th>cuisine</th>\n",
       "      <th>id</th>\n",
       "      <th>ingredients</th>\n",
       "    </tr>\n",
       "  </thead>\n",
       "  <tbody>\n",
       "    <tr>\n",
       "      <th>0</th>\n",
       "      <td>greek</td>\n",
       "      <td>10259</td>\n",
       "      <td>[romaine lettuce, black olives, grape tomatoes...</td>\n",
       "    </tr>\n",
       "    <tr>\n",
       "      <th>1</th>\n",
       "      <td>southern_us</td>\n",
       "      <td>25693</td>\n",
       "      <td>[plain flour, ground pepper, salt, tomatoes, g...</td>\n",
       "    </tr>\n",
       "    <tr>\n",
       "      <th>2</th>\n",
       "      <td>filipino</td>\n",
       "      <td>20130</td>\n",
       "      <td>[eggs, pepper, salt, mayonaise, cooking oil, g...</td>\n",
       "    </tr>\n",
       "    <tr>\n",
       "      <th>3</th>\n",
       "      <td>indian</td>\n",
       "      <td>22213</td>\n",
       "      <td>[water, vegetable oil, wheat, salt]</td>\n",
       "    </tr>\n",
       "    <tr>\n",
       "      <th>4</th>\n",
       "      <td>indian</td>\n",
       "      <td>13162</td>\n",
       "      <td>[black pepper, shallots, cornflour, cayenne pe...</td>\n",
       "    </tr>\n",
       "  </tbody>\n",
       "</table>\n",
       "</div>"
      ],
      "text/plain": [
       "       cuisine     id                                        ingredients\n",
       "0        greek  10259  [romaine lettuce, black olives, grape tomatoes...\n",
       "1  southern_us  25693  [plain flour, ground pepper, salt, tomatoes, g...\n",
       "2     filipino  20130  [eggs, pepper, salt, mayonaise, cooking oil, g...\n",
       "3       indian  22213                [water, vegetable oil, wheat, salt]\n",
       "4       indian  13162  [black pepper, shallots, cornflour, cayenne pe..."
      ]
     },
     "execution_count": 21,
     "metadata": {},
     "output_type": "execute_result"
    }
   ],
   "source": [
    "train_df=pd.read_json('food_train.json')\n",
    "train_df.head()"
   ]
  },
  {
   "cell_type": "markdown",
   "metadata": {},
   "source": [
    "As shown above, the dataset has three columns-\n",
    "    1. cuisine - Consists of the cuisine the recipe belongs to\n",
    "    2. id - The unique ID of each recipe\n",
    "    3. ingredients - It is a list consisting of all the ingredients constituting the respective recipe.\n",
    "\n"
   ]
  },
  {
   "cell_type": "code",
   "execution_count": 22,
   "metadata": {},
   "outputs": [
    {
     "data": {
      "text/plain": [
       "{'brazilian',\n",
       " 'british',\n",
       " 'cajun_creole',\n",
       " 'chinese',\n",
       " 'filipino',\n",
       " 'french',\n",
       " 'greek',\n",
       " 'indian',\n",
       " 'irish',\n",
       " 'italian',\n",
       " 'jamaican',\n",
       " 'japanese',\n",
       " 'korean',\n",
       " 'mexican',\n",
       " 'moroccan',\n",
       " 'russian',\n",
       " 'southern_us',\n",
       " 'spanish',\n",
       " 'thai',\n",
       " 'vietnamese'}"
      ]
     },
     "execution_count": 22,
     "metadata": {},
     "output_type": "execute_result"
    }
   ],
   "source": [
    "set(train_df['cuisine'])"
   ]
  },
  {
   "cell_type": "markdown",
   "metadata": {},
   "source": [
    "We use the \"set( )\" function to find out the total number of distinct cuisines present in the given dataset.\n",
    "We have 20 ingredients here.\n"
   ]
  },
  {
   "cell_type": "code",
   "execution_count": 23,
   "metadata": {
    "collapsed": true
   },
   "outputs": [],
   "source": [
    "new_test_df=pd.DataFrame()\n",
    "new_train_df=pd.DataFrame()\n"
   ]
  },
  {
   "cell_type": "code",
   "execution_count": 24,
   "metadata": {
    "collapsed": true
   },
   "outputs": [],
   "source": [
    "new_train_df = train_df"
   ]
  },
  {
   "cell_type": "markdown",
   "metadata": {},
   "source": [
    "# Data Preprocessing-"
   ]
  },
  {
   "cell_type": "markdown",
   "metadata": {},
   "source": [
    "As we can see, the ingredients are present in lists in the dataset.\n",
    "In order to be able to work on this data, we will be converting this list of ingredients into attributes themselves. We shall perform binary encoding on this list so as to get attributes such that if an ingredient is present in a recipe, it will be represented as 1 and 0 if it isn't.\n",
    "\n",
    "In order to do so, we get all the ingredients in all the recipes into a single list(new_ingredients). \n",
    "For each ingredient in this list, we check if that ingredient is present in each recipe. If it is, we assign 1 under that attribute (the ingredient) and 0 otherwise."
   ]
  },
  {
   "cell_type": "code",
   "execution_count": 25,
   "metadata": {
    "collapsed": true
   },
   "outputs": [],
   "source": [
    "# Get the ingredients column from the new train data and create the list of all existing ingredients\n",
    "new_ingredients = new_train_df.ingredients\n",
    "rawlist=[item for sublist in new_ingredients.ravel() for item in sublist] #convert the ingredients list of lists into a list\n",
    "ingredients = list(set(rawlist))\n",
    "for ing in ingredients:\n",
    "    vector=[]\n",
    "    for recipe in new_train_df.ingredients: \n",
    "        if ing in recipe:\n",
    "            vector.append(1)\n",
    "        else:\n",
    "            vector.append(0)\n",
    "    new_train_df[ing]=pd.Series(vector,index=new_train_df.index) # Adds column containing 0 and 1's for this ingredient\n",
    "    \n",
    "    \n",
    "\n"
   ]
  },
  {
   "cell_type": "markdown",
   "metadata": {},
   "source": [
    "We now remove the column the originally consisted of the ingredients in the form of a list.\n",
    "We also remove the column that contains the ID.\n",
    "\n",
    "This is called data preprocessing. \n",
    "We keep only what is required to solve the problem and omit the rest of the details."
   ]
  },
  {
   "cell_type": "code",
   "execution_count": 26,
   "metadata": {
    "collapsed": true
   },
   "outputs": [],
   "source": [
    "new_train_df=new_train_df.drop('ingredients',1)\n",
    "new_train_df=new_train_df.drop('id',1)"
   ]
  },
  {
   "cell_type": "markdown",
   "metadata": {},
   "source": [
    "This is what the new datafram consists of now-\n",
    "    1. The cuisine\n",
    "    2. The ingredients, binary encoded"
   ]
  },
  {
   "cell_type": "code",
   "execution_count": 27,
   "metadata": {},
   "outputs": [
    {
     "data": {
      "text/html": [
       "<div>\n",
       "<style>\n",
       "    .dataframe thead tr:only-child th {\n",
       "        text-align: right;\n",
       "    }\n",
       "\n",
       "    .dataframe thead th {\n",
       "        text-align: left;\n",
       "    }\n",
       "\n",
       "    .dataframe tbody tr th {\n",
       "        vertical-align: top;\n",
       "    }\n",
       "</style>\n",
       "<table border=\"1\" class=\"dataframe\">\n",
       "  <thead>\n",
       "    <tr style=\"text-align: right;\">\n",
       "      <th></th>\n",
       "      <th>cuisine</th>\n",
       "      <th>canned chicken breast</th>\n",
       "      <th>mixed dried fruit</th>\n",
       "      <th>parsley</th>\n",
       "      <th>tubetti</th>\n",
       "      <th>pepper</th>\n",
       "      <th>wild garlic</th>\n",
       "      <th>free-range chickens</th>\n",
       "      <th>whipping cream</th>\n",
       "      <th>ground pecans</th>\n",
       "      <th>...</th>\n",
       "      <th>pork cubes</th>\n",
       "      <th>peaches</th>\n",
       "      <th>chow mein noodles</th>\n",
       "      <th>low fat coleslaw dressing</th>\n",
       "      <th>crumbled blue cheese</th>\n",
       "      <th>pie crust</th>\n",
       "      <th>whole grain English muffins</th>\n",
       "      <th>Old El Paso Flour Tortillas</th>\n",
       "      <th>corn niblets</th>\n",
       "      <th>tamarind water</th>\n",
       "    </tr>\n",
       "  </thead>\n",
       "  <tbody>\n",
       "    <tr>\n",
       "      <th>0</th>\n",
       "      <td>greek</td>\n",
       "      <td>0</td>\n",
       "      <td>0</td>\n",
       "      <td>0</td>\n",
       "      <td>0</td>\n",
       "      <td>1</td>\n",
       "      <td>0</td>\n",
       "      <td>0</td>\n",
       "      <td>0</td>\n",
       "      <td>0</td>\n",
       "      <td>...</td>\n",
       "      <td>0</td>\n",
       "      <td>0</td>\n",
       "      <td>0</td>\n",
       "      <td>0</td>\n",
       "      <td>0</td>\n",
       "      <td>0</td>\n",
       "      <td>0</td>\n",
       "      <td>0</td>\n",
       "      <td>0</td>\n",
       "      <td>0</td>\n",
       "    </tr>\n",
       "    <tr>\n",
       "      <th>1</th>\n",
       "      <td>southern_us</td>\n",
       "      <td>0</td>\n",
       "      <td>0</td>\n",
       "      <td>0</td>\n",
       "      <td>0</td>\n",
       "      <td>0</td>\n",
       "      <td>0</td>\n",
       "      <td>0</td>\n",
       "      <td>0</td>\n",
       "      <td>0</td>\n",
       "      <td>...</td>\n",
       "      <td>0</td>\n",
       "      <td>0</td>\n",
       "      <td>0</td>\n",
       "      <td>0</td>\n",
       "      <td>0</td>\n",
       "      <td>0</td>\n",
       "      <td>0</td>\n",
       "      <td>0</td>\n",
       "      <td>0</td>\n",
       "      <td>0</td>\n",
       "    </tr>\n",
       "    <tr>\n",
       "      <th>2</th>\n",
       "      <td>filipino</td>\n",
       "      <td>0</td>\n",
       "      <td>0</td>\n",
       "      <td>0</td>\n",
       "      <td>0</td>\n",
       "      <td>1</td>\n",
       "      <td>0</td>\n",
       "      <td>0</td>\n",
       "      <td>0</td>\n",
       "      <td>0</td>\n",
       "      <td>...</td>\n",
       "      <td>0</td>\n",
       "      <td>0</td>\n",
       "      <td>0</td>\n",
       "      <td>0</td>\n",
       "      <td>0</td>\n",
       "      <td>0</td>\n",
       "      <td>0</td>\n",
       "      <td>0</td>\n",
       "      <td>0</td>\n",
       "      <td>0</td>\n",
       "    </tr>\n",
       "    <tr>\n",
       "      <th>3</th>\n",
       "      <td>indian</td>\n",
       "      <td>0</td>\n",
       "      <td>0</td>\n",
       "      <td>0</td>\n",
       "      <td>0</td>\n",
       "      <td>0</td>\n",
       "      <td>0</td>\n",
       "      <td>0</td>\n",
       "      <td>0</td>\n",
       "      <td>0</td>\n",
       "      <td>...</td>\n",
       "      <td>0</td>\n",
       "      <td>0</td>\n",
       "      <td>0</td>\n",
       "      <td>0</td>\n",
       "      <td>0</td>\n",
       "      <td>0</td>\n",
       "      <td>0</td>\n",
       "      <td>0</td>\n",
       "      <td>0</td>\n",
       "      <td>0</td>\n",
       "    </tr>\n",
       "    <tr>\n",
       "      <th>4</th>\n",
       "      <td>indian</td>\n",
       "      <td>0</td>\n",
       "      <td>0</td>\n",
       "      <td>0</td>\n",
       "      <td>0</td>\n",
       "      <td>0</td>\n",
       "      <td>0</td>\n",
       "      <td>0</td>\n",
       "      <td>0</td>\n",
       "      <td>0</td>\n",
       "      <td>...</td>\n",
       "      <td>0</td>\n",
       "      <td>0</td>\n",
       "      <td>0</td>\n",
       "      <td>0</td>\n",
       "      <td>0</td>\n",
       "      <td>0</td>\n",
       "      <td>0</td>\n",
       "      <td>0</td>\n",
       "      <td>0</td>\n",
       "      <td>0</td>\n",
       "    </tr>\n",
       "  </tbody>\n",
       "</table>\n",
       "<p>5 rows × 6715 columns</p>\n",
       "</div>"
      ],
      "text/plain": [
       "       cuisine  canned chicken breast  mixed dried fruit  parsley  tubetti  \\\n",
       "0        greek                      0                  0        0        0   \n",
       "1  southern_us                      0                  0        0        0   \n",
       "2     filipino                      0                  0        0        0   \n",
       "3       indian                      0                  0        0        0   \n",
       "4       indian                      0                  0        0        0   \n",
       "\n",
       "   pepper  wild garlic  free-range chickens  whipping cream  ground pecans  \\\n",
       "0       1            0                    0               0              0   \n",
       "1       0            0                    0               0              0   \n",
       "2       1            0                    0               0              0   \n",
       "3       0            0                    0               0              0   \n",
       "4       0            0                    0               0              0   \n",
       "\n",
       "        ...        pork cubes  peaches  chow mein noodles  \\\n",
       "0       ...                 0        0                  0   \n",
       "1       ...                 0        0                  0   \n",
       "2       ...                 0        0                  0   \n",
       "3       ...                 0        0                  0   \n",
       "4       ...                 0        0                  0   \n",
       "\n",
       "   low fat coleslaw dressing  crumbled blue cheese  pie crust  \\\n",
       "0                          0                     0          0   \n",
       "1                          0                     0          0   \n",
       "2                          0                     0          0   \n",
       "3                          0                     0          0   \n",
       "4                          0                     0          0   \n",
       "\n",
       "   whole grain English muffins  Old El Paso Flour Tortillas  corn niblets  \\\n",
       "0                            0                            0             0   \n",
       "1                            0                            0             0   \n",
       "2                            0                            0             0   \n",
       "3                            0                            0             0   \n",
       "4                            0                            0             0   \n",
       "\n",
       "   tamarind water  \n",
       "0               0  \n",
       "1               0  \n",
       "2               0  \n",
       "3               0  \n",
       "4               0  \n",
       "\n",
       "[5 rows x 6715 columns]"
      ]
     },
     "execution_count": 27,
     "metadata": {},
     "output_type": "execute_result"
    }
   ],
   "source": [
    "new_train_df.head()"
   ]
  },
  {
   "cell_type": "markdown",
   "metadata": {},
   "source": [
    "Next, we shall split the dataset into train and test data.\n",
    "We will be using the training data to train our model. The model learns what ingredients would belong to what cuisines.\n",
    "The test data will be used to check the model, if it predicts the right cuisine."
   ]
  },
  {
   "cell_type": "code",
   "execution_count": 28,
   "metadata": {
    "collapsed": true
   },
   "outputs": [],
   "source": [
    "new_train1,new_test1 = train_test_split(new_train_df,test_size=0.25)"
   ]
  },
  {
   "cell_type": "code",
   "execution_count": 29,
   "metadata": {
    "collapsed": true
   },
   "outputs": [],
   "source": [
    "#y has the target values for training data\n",
    "\n",
    "x = new_train1.iloc[:,1:]\n",
    "y = new_train1['cuisine']\n",
    "\n",
    "\n",
    "s = pd.Series(y.values, dtype=\"category\")\n",
    "y = s.cat.codes"
   ]
  },
  {
   "cell_type": "code",
   "execution_count": 30,
   "metadata": {
    "collapsed": true
   },
   "outputs": [],
   "source": [
    "#ytr has the target values for training data\n",
    "\n",
    "\n",
    "xtr = new_test1.iloc[:,1:]\n",
    "ytr = new_test1['cuisine']\n",
    "\n",
    "\n",
    "st = pd.Series(ytr.values, dtype=\"category\")\n",
    "ytr = st.cat.codes\n"
   ]
  },
  {
   "cell_type": "markdown",
   "metadata": {},
   "source": [
    "# Picking a Model-\n",
    "\n",
    "To train our dataset we shall use Neural Networks in TensorFlow.\n",
    "\n",
    "<h3>Now, what are Neural Networks?</h3>\n",
    "<br>\n",
    "A neural network is a series of algorithms that endeavors to recognize underlying relationships in a set of data through a process that mimics the way the human brain operates.\n",
    "\n",
    "A neural network works similarly to the human brain’s neural network. A “neuron” in a neural network is a mathematical function that collects and classifies information according to a specific architecture. \n",
    "\n",
    "A neural network contains layers of interconnected nodes. Each node is a perceptron and is similar to a multiple linear regression. The connections between nodes of adjacent layers have “weights” associated with them. The goal of learning is to assign correct weights for these edges. Given an input vector, these weights determine what the output vector is.\n",
    "\n",
    "\n",
    "Read more: Neural Network https://www.investopedia.com/terms/n/neuralnetwork.asp#ixzz5UpbpvcDs \n"
   ]
  },
  {
   "cell_type": "markdown",
   "metadata": {},
   "source": [
    "We will be using Keras, which is a Neural network API used in TensorFlow\n",
    "\n",
    "The following code creates a Sequestial model by passing a list of layer instances to the constructor. The Sequential model is a linear stack of layers.\n",
    "\n",
    "Under the \"activation\" parameter, we specify the activation function.\n",
    "Here, we use the tanh function. We use the softmax function in the output layer.\n",
    "These two functions were narrowed down after experimenting with various other function such as the relu and sigmoid functions.\n",
    "\n",
    "We also specify the number of nodes for the input layer and the hidden layers here, just before the activation parameter. \n",
    "\n",
    "The number of hidden layers and the number of nodes it will contain waere both decided after having performed the training with other numbers. This seemed to yield the best result.\n"
   ]
  },
  {
   "cell_type": "code",
   "execution_count": 31,
   "metadata": {
    "collapsed": true
   },
   "outputs": [],
   "source": [
    "model = keras.Sequential([\n",
    "    keras.layers.Dense(653,activation=tf.nn.tanh, input_shape=(x.values[0].shape)),\n",
    "    keras.layers.Dense(20,activation=tf.nn.softmax)\n",
    "])"
   ]
  },
  {
   "cell_type": "markdown",
   "metadata": {},
   "source": [
    "We use the Adam optimizer here.\n",
    "Adam stands for Adaptive Moment Estimation. It is a method that computes adaptive learning rates for each parameter.\n",
    "\n",
    "Adam works well in practice and compares favorably to other adaptive learning-method algorithms as it converges very fast and it rectifies every problem that is faced in other optimization techniques such as vanishing learning rate, slow convergence or high variance in the parameter updates which leads to fluctuating loss function.\n",
    "\n",
    "-Cross entropy is a loss function, used to measure the dissimilarity between the distribution of observed class labels and the predicted probabilities of class membership"
   ]
  },
  {
   "cell_type": "code",
   "execution_count": 32,
   "metadata": {
    "collapsed": true
   },
   "outputs": [],
   "source": [
    "model.compile(optimizer=keras.optimizers.Adam(0.00001),loss=\"sparse_categorical_crossentropy\",metrics=['accuracy'])"
   ]
  },
  {
   "cell_type": "markdown",
   "metadata": {},
   "source": [
    "We now train our model with suitable number of epochs so as to get the most accuracy level.\n",
    "The algorithm backpropogates and makes changes to the weign=hts in the neural networks based on the previous output.\n",
    "It backpropogates until the most accurate result is got.\n",
    "To avoid any sort of overfitting of the model, I chose to perform 2-5 epochs at a time to ensure that th emodel is noot overly trained.\n"
   ]
  },
  {
   "cell_type": "code",
   "execution_count": 33,
   "metadata": {
    "scrolled": true
   },
   "outputs": [
    {
     "name": "stdout",
     "output_type": "stream",
     "text": [
      "Train on 23864 samples, validate on 5966 samples\n",
      "Epoch 1/2\n",
      " - 183s - loss: 0.8265 - acc: 0.7850 - val_loss: 0.9288 - val_acc: 0.7494\n",
      "Epoch 2/2\n",
      " - 186s - loss: 0.8063 - acc: 0.7897 - val_loss: 0.9152 - val_acc: 0.7513\n"
     ]
    }
   ],
   "source": [
    "history = model.fit(x,y,epochs=2,validation_split=0.2,verbose=2)\n",
    "# model.fit(x,y,epochs=5,verbose=2)"
   ]
  },
  {
   "cell_type": "markdown",
   "metadata": {},
   "source": [
    "The best accuracy I could get was 78.97% for the training set and 75.13% for validation set.\n",
    "\n",
    "Other algorithms have been applied previously.\n",
    "SVM model was used that had an accracy of about 49%.\n",
    "Logistic regression was used too that yielded a 77% accuracy as well.\n"
   ]
  },
  {
   "cell_type": "markdown",
   "metadata": {},
   "source": [
    "The training dataset is split to get a validation set.\n",
    "The validation set is used to provide an unbiased evaluation of a model fit on the training dataset while tuning model hyperparameters. The evaluation becomes more biased as skill on the validation dataset is incorporated into the model configuration.\n",
    "\n",
    "\n",
    "Following is a graph of the loss vs the validation loss-"
   ]
  },
  {
   "cell_type": "code",
   "execution_count": 34,
   "metadata": {},
   "outputs": [
    {
     "data": {
      "text/plain": [
       "[<matplotlib.lines.Line2D at 0x12992ee80>]"
      ]
     },
     "execution_count": 34,
     "metadata": {},
     "output_type": "execute_result"
    },
    {
     "data": {
      "image/png": "[encoded data removed]",
      "text/plain": [
       "<matplotlib.figure.Figure at 0x129c50fd0>"
      ]
     },
     "metadata": {},
     "output_type": "display_data"
    }
   ],
   "source": [
    "%matplotlib inline\n",
    "plt.plot(history.epoch, history.history['loss'] ,'g')\n",
    "plt.plot(history.epoch, history.history['val_loss'])"
   ]
  },
  {
   "cell_type": "markdown",
   "metadata": {},
   "source": [
    "Here, we check our model for test data.\n",
    "The accuracy is about 77%, which is the best that could be got for this particular model."
   ]
  },
  {
   "cell_type": "code",
   "execution_count": 35,
   "metadata": {},
   "outputs": [
    {
     "name": "stdout",
     "output_type": "stream",
     "text": [
      "9944/9944 [==============================] - 15s 1ms/step\n"
     ]
    },
    {
     "data": {
      "text/plain": [
       "[0.91656490951800484, 0.74949718427964973]"
      ]
     },
     "execution_count": 35,
     "metadata": {},
     "output_type": "execute_result"
    }
   ],
   "source": [
    "model.evaluate(xtr,ytr)"
   ]
  },
  {
   "cell_type": "code",
   "execution_count": 33,
   "metadata": {
    "collapsed": true
   },
   "outputs": [],
   "source": [
    "model.save(\"Capstone.h5\")"
   ]
  },
  {
   "cell_type": "markdown",
   "metadata": {
    "collapsed": true
   },
   "source": [
    "# Conclusion-\n",
    "\n",
    "Using Neural Networks, I could train my model so as to get an accuracy of upto 74.9%.\n",
    "We have used a Keras Sequestial model with the Adam optimizer to classify the results for this dataset.\n",
    "This means that, given all the ingredients for a recipe, we will be able to predict the cuisine it belongs to with an accuracy of 74.9%. "
   ]
  }
 ],
 "metadata": {
  "kernelspec": {
   "display_name": "Python 3",
   "language": "python",
   "name": "python3"
  },
  "language_info": {
   "codemirror_mode": {
    "name": "ipython",
    "version": 3
   },
   "file_extension": ".py",
   "mimetype": "text/x-python",
   "name": "python",
   "nbconvert_exporter": "python",
   "pygments_lexer": "ipython3",
   "version": "3.6.1"
  }
 },
 "nbformat": 4,
 "nbformat_minor": 2
}
